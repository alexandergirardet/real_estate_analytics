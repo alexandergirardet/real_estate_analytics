{
 "cells": [
  {
   "cell_type": "code",
   "execution_count": 1,
   "id": "6b2a033e",
   "metadata": {},
   "outputs": [],
   "source": [
    "from google.cloud import storage\n",
    "\n",
    "key_path = \"/Users/alexandergirardet/code/projects/real_estate/keys/sturdy-block-351315-cf8dc1e55296.json\""
   ]
  },
  {
   "cell_type": "code",
   "execution_count": 2,
   "id": "151f5f4c",
   "metadata": {},
   "outputs": [],
   "source": [
    "storage_client = storage.Client.from_service_account_json(key_path, project=\"My First Project\")"
   ]
  },
  {
   "cell_type": "code",
   "execution_count": 3,
   "id": "c066ed10",
   "metadata": {},
   "outputs": [],
   "source": [
    "bucket_name = \"rightmove_bucket\"\n",
    "prefix = 'rightmove_images/100023683'\n",
    "delimiter = None"
   ]
  },
  {
   "cell_type": "code",
   "execution_count": 4,
   "id": "c9213ded",
   "metadata": {},
   "outputs": [],
   "source": [
    "object_generator = storage_client.list_blobs(bucket_name, prefix=prefix, delimiter=delimiter)"
   ]
  },
  {
   "cell_type": "code",
   "execution_count": 6,
   "id": "c1465203",
   "metadata": {},
   "outputs": [],
   "source": [
    "property_id = 100023683\n",
    "image_number = 0"
   ]
  },
  {
   "cell_type": "code",
   "execution_count": 1,
   "id": "24c265e2",
   "metadata": {},
   "outputs": [],
   "source": [
    "access_token = \"Bearer ya29.a0ARrdaM_I50NJgRTBNqo5YfPVaKuApscUh5UEkAgfEGfIuqCUF8QMmFmj2pL9658Bnv38vc2lvDA63ZP5HsRaNfBg9CLp2BAKjZWp7t0QM1xLUPRR4QRsQSDLblnAn-XrRnlFTryIC25bCUF_LiA3tLQ1QGN2\""
   ]
  },
  {
   "cell_type": "code",
   "execution_count": 4,
   "id": "7717b97e",
   "metadata": {},
   "outputs": [],
   "source": [
    "headers = {\"Authorization\": access_token}"
   ]
  },
  {
   "cell_type": "code",
   "execution_count": 2,
   "id": "70a1e31e",
   "metadata": {},
   "outputs": [],
   "source": [
    "bucket_name = \"rightmove_bucket\"\n",
    "prefix = 'rightmove_images/100023683'"
   ]
  },
  {
   "cell_type": "code",
   "execution_count": 20,
   "id": "e0da101a",
   "metadata": {},
   "outputs": [],
   "source": [
    "property_url = f\"https://storage.googleapis.com/storage/v1/b/{bucket_name}/o?prefix={prefix}\""
   ]
  },
  {
   "cell_type": "code",
   "execution_count": 18,
   "id": "25fc46b4",
   "metadata": {},
   "outputs": [],
   "source": [
    "import requests\n",
    "res = requests.get(url)"
   ]
  },
  {
   "cell_type": "code",
   "execution_count": 14,
   "id": "e1a5ff48",
   "metadata": {},
   "outputs": [],
   "source": [
    "images = res.json()['items']"
   ]
  },
  {
   "cell_type": "code",
   "execution_count": 53,
   "id": "aa715dc7",
   "metadata": {},
   "outputs": [
    {
     "name": "stdout",
     "output_type": "stream",
     "text": [
      "rightmove_images/100023683/property_image_0.jpg\n",
      "rightmove_images/100023683/property_image_1.jpg\n",
      "rightmove_images/100023683/property_image_2.jpg\n",
      "rightmove_images/100023683/property_image_3.jpg\n",
      "rightmove_images/100023683/property_image_4.jpg\n",
      "rightmove_images/100023683/property_image_5.jpg\n"
     ]
    }
   ],
   "source": [
    "for image in images:\n",
    "    print(image['name'])"
   ]
  },
  {
   "cell_type": "code",
   "execution_count": 44,
   "id": "563e1a96",
   "metadata": {},
   "outputs": [],
   "source": [
    "url_object = \"rightmove_images/100023683/property_image_1.jpg\""
   ]
  },
  {
   "cell_type": "code",
   "execution_count": null,
   "id": "552879f1",
   "metadata": {},
   "outputs": [],
   "source": [
    "curl -X GET \\\n",
    "  -H \"Authorization: Bearer OAUTH2_TOKEN\" \\\n",
    "  -o \"SAVE_TO_LOCATION\" \\\n",
    "  \"https://storage.googleapis.com/storage/v1/b/BUCKET_NAME/o/OBJECT_NAME?alt=media\""
   ]
  },
  {
   "cell_type": "code",
   "execution_count": 37,
   "id": "dfcf7634",
   "metadata": {},
   "outputs": [],
   "source": [
    "import urllib"
   ]
  },
  {
   "cell_type": "code",
   "execution_count": 45,
   "id": "e08c6835",
   "metadata": {},
   "outputs": [],
   "source": [
    "url_obj = urllib.parse.quote_plus(url_object)"
   ]
  },
  {
   "cell_type": "code",
   "execution_count": null,
   "id": "a555aea6",
   "metadata": {},
   "outputs": [],
   "source": [
    "https://storage.googleapis.com/rightmove_bucket/rightmove_images/104567816/property_image_1.jpg"
   ]
  },
  {
   "cell_type": "code",
   "execution_count": 91,
   "id": "6cedcb4f",
   "metadata": {},
   "outputs": [],
   "source": [
    "def extract_features(image_data, model):\n",
    "    # load the image as a 224x224 array\n",
    "        img = Image.open(io.BytesIO(image_data))\n",
    "        img = img.resize((224, 244))\n",
    "        # convert from 'PIL.Image.Image' to numpy array\n",
    "        img = np.array(img) \n",
    "        # reshape the data for the model reshape(num_of_samples, dim 1, dim 2, channels)\n",
    "        reshaped_img = img.reshape(1,224,224,3) \n",
    "        # prepare image for model\n",
    "        imgx = preprocess_input(reshaped_img)\n",
    "        # get the feature vector\n",
    "        features = model.predict(imgx, use_multiprocessing=True)\n",
    "        return features"
   ]
  },
  {
   "cell_type": "code",
   "execution_count": 70,
   "id": "1c68cf17",
   "metadata": {},
   "outputs": [],
   "source": [
    "import requests\n",
    "\n",
    "# headers = {\n",
    "#     'Authorization': access_token,\n",
    "# }\n",
    "\n",
    "params = {\n",
    "    'alt': 'media',\n",
    "}\n",
    "\n",
    "encoded_params = urllib.parse.urlencode(params)\n",
    "\n",
    "url = f'https://storage.googleapis.com/storage/v1/b/{bucket_name}/o/{url_obj}?' + encoded_params\n",
    "\n",
    "response = requests.get(url)\n",
    "\n",
    "# with open('SAVE_TO_LOCATION', 'wb') as f:\n",
    "#     f.write(response.content)\n",
    "\n"
   ]
  },
  {
   "cell_type": "code",
   "execution_count": 88,
   "id": "fc236f0f",
   "metadata": {},
   "outputs": [],
   "source": [
    "from PIL import Image\n",
    "import io\n",
    "import numpy as np"
   ]
  },
  {
   "cell_type": "code",
   "execution_count": 89,
   "id": "69df77bd",
   "metadata": {},
   "outputs": [],
   "source": [
    "con = response.content"
   ]
  },
  {
   "cell_type": "code",
   "execution_count": 142,
   "id": "5037a8a8",
   "metadata": {},
   "outputs": [],
   "source": [
    "gcp_headers = {\n",
    "            'Content-Type': 'text/plain'\n",
    "            }\n",
    "\n",
    "data = con\n",
    "\n",
    "image_gcp_url = f\"https://storage.googleapis.com/upload/storage/v1/b/rightmove_bucket/o?uploadType=media&name=test/test.jpg\""
   ]
  },
  {
   "cell_type": "code",
   "execution_count": 143,
   "id": "26258f35",
   "metadata": {},
   "outputs": [
    {
     "data": {
      "text/plain": [
       "<Response [401]>"
      ]
     },
     "execution_count": 143,
     "metadata": {},
     "output_type": "execute_result"
    }
   ],
   "source": [
    "requests.post(url=image_gcp_url, headers = gcp_headers, data=data)"
   ]
  },
  {
   "cell_type": "code",
   "execution_count": 136,
   "id": "40eab7cb",
   "metadata": {},
   "outputs": [],
   "source": [
    "img = Image.open(io.BytesIO(con))\n",
    "img = img.resize((244, 244))"
   ]
  },
  {
   "cell_type": "code",
   "execution_count": 137,
   "id": "65e8b0b2",
   "metadata": {},
   "outputs": [],
   "source": [
    "img_arr= np.array(img)"
   ]
  },
  {
   "cell_type": "code",
   "execution_count": 138,
   "id": "ff2b6276",
   "metadata": {},
   "outputs": [
    {
     "data": {
      "text/plain": [
       "(244, 244, 3)"
      ]
     },
     "execution_count": 138,
     "metadata": {},
     "output_type": "execute_result"
    }
   ],
   "source": [
    "img_arr.shape"
   ]
  },
  {
   "cell_type": "code",
   "execution_count": 139,
   "id": "c4d745a0",
   "metadata": {},
   "outputs": [
    {
     "data": {
      "text/plain": [
       "array([[[[188, 155, 110],\n",
       "         [189, 156, 111],\n",
       "         [189, 156, 111],\n",
       "         ...,\n",
       "         [ 65,  41,  89],\n",
       "         [ 65,  41,  89],\n",
       "         [ 64,  40,  88]],\n",
       "\n",
       "        [[187, 154, 109],\n",
       "         [188, 155, 110],\n",
       "         [189, 156, 111],\n",
       "         ...,\n",
       "         [ 65,  41,  89],\n",
       "         [ 65,  41,  89],\n",
       "         [ 64,  40,  88]],\n",
       "\n",
       "        [[187, 154, 109],\n",
       "         [188, 155, 110],\n",
       "         [189, 156, 111],\n",
       "         ...,\n",
       "         [ 65,  41,  89],\n",
       "         [ 65,  41,  89],\n",
       "         [ 67,  43,  91]],\n",
       "\n",
       "        ...,\n",
       "\n",
       "        [[127, 126, 105],\n",
       "         [126, 125, 104],\n",
       "         [125, 124, 103],\n",
       "         ...,\n",
       "         [134,   0,  24],\n",
       "         [134,   0,  24],\n",
       "         [134,   0,  24]],\n",
       "\n",
       "        [[128, 127, 106],\n",
       "         [127, 126, 105],\n",
       "         [125, 124, 103],\n",
       "         ...,\n",
       "         [134,   0,  24],\n",
       "         [134,   0,  24],\n",
       "         [134,   0,  24]],\n",
       "\n",
       "        [[127, 126, 105],\n",
       "         [127, 126, 105],\n",
       "         [126, 125, 104],\n",
       "         ...,\n",
       "         [132,   0,  22],\n",
       "         [134,   0,  24],\n",
       "         [133,   0,  23]]]], dtype=uint8)"
      ]
     },
     "execution_count": 139,
     "metadata": {},
     "output_type": "execute_result"
    }
   ],
   "source": [
    "img_arr.reshape(1, 244, 244, 3)"
   ]
  },
  {
   "cell_type": "code",
   "execution_count": 106,
   "id": "5032e965",
   "metadata": {},
   "outputs": [
    {
     "ename": "ValueError",
     "evalue": "cannot reshape array of size 163968 into shape (1,224,224,3)",
     "output_type": "error",
     "traceback": [
      "\u001b[0;31m---------------------------------------------------------------------------\u001b[0m",
      "\u001b[0;31mValueError\u001b[0m                                Traceback (most recent call last)",
      "Input \u001b[0;32mIn [106]\u001b[0m, in \u001b[0;36m<cell line: 1>\u001b[0;34m()\u001b[0m\n\u001b[0;32m----> 1\u001b[0m \u001b[43mimg_arr\u001b[49m\u001b[38;5;241;43m.\u001b[39;49m\u001b[43mreshape\u001b[49m\u001b[43m(\u001b[49m\u001b[38;5;241;43m1\u001b[39;49m\u001b[43m,\u001b[49m\u001b[38;5;241;43m224\u001b[39;49m\u001b[43m,\u001b[49m\u001b[38;5;241;43m224\u001b[39;49m\u001b[43m,\u001b[49m\u001b[38;5;241;43m3\u001b[39;49m\u001b[43m)\u001b[49m\n",
      "\u001b[0;31mValueError\u001b[0m: cannot reshape array of size 163968 into shape (1,224,224,3)"
     ]
    }
   ],
   "source": [
    "img_arr.reshape(1,224,224,3) "
   ]
  },
  {
   "cell_type": "code",
   "execution_count": 103,
   "id": "dbae42a8",
   "metadata": {},
   "outputs": [
    {
     "ename": "ValueError",
     "evalue": "cannot reshape array of size 163968 into shape (1,224,224,3)",
     "output_type": "error",
     "traceback": [
      "\u001b[0;31m---------------------------------------------------------------------------\u001b[0m",
      "\u001b[0;31mValueError\u001b[0m                                Traceback (most recent call last)",
      "Input \u001b[0;32mIn [103]\u001b[0m, in \u001b[0;36m<cell line: 1>\u001b[0;34m()\u001b[0m\n\u001b[0;32m----> 1\u001b[0m feat \u001b[38;5;241m=\u001b[39m \u001b[43mextract_features\u001b[49m\u001b[43m(\u001b[49m\u001b[43mcon\u001b[49m\u001b[43m,\u001b[49m\u001b[43m \u001b[49m\u001b[43mmodel\u001b[49m\u001b[43m)\u001b[49m\n",
      "Input \u001b[0;32mIn [91]\u001b[0m, in \u001b[0;36mextract_features\u001b[0;34m(image_data, model)\u001b[0m\n\u001b[1;32m      6\u001b[0m img \u001b[38;5;241m=\u001b[39m np\u001b[38;5;241m.\u001b[39marray(img) \n\u001b[1;32m      7\u001b[0m \u001b[38;5;66;03m# reshape the data for the model reshape(num_of_samples, dim 1, dim 2, channels)\u001b[39;00m\n\u001b[0;32m----> 8\u001b[0m reshaped_img \u001b[38;5;241m=\u001b[39m \u001b[43mimg\u001b[49m\u001b[38;5;241;43m.\u001b[39;49m\u001b[43mreshape\u001b[49m\u001b[43m(\u001b[49m\u001b[38;5;241;43m1\u001b[39;49m\u001b[43m,\u001b[49m\u001b[38;5;241;43m224\u001b[39;49m\u001b[43m,\u001b[49m\u001b[38;5;241;43m224\u001b[39;49m\u001b[43m,\u001b[49m\u001b[38;5;241;43m3\u001b[39;49m\u001b[43m)\u001b[49m \n\u001b[1;32m      9\u001b[0m \u001b[38;5;66;03m# prepare image for model\u001b[39;00m\n\u001b[1;32m     10\u001b[0m imgx \u001b[38;5;241m=\u001b[39m preprocess_input(reshaped_img)\n",
      "\u001b[0;31mValueError\u001b[0m: cannot reshape array of size 163968 into shape (1,224,224,3)"
     ]
    }
   ],
   "source": [
    "feat = extract_features(con, model)"
   ]
  },
  {
   "cell_type": "markdown",
   "id": "fe525e4c",
   "metadata": {},
   "source": [
    "### DOWNLOAD IMAGE"
   ]
  },
  {
   "cell_type": "markdown",
   "id": "3b709294",
   "metadata": {},
   "source": [
    "### MERGE IMAGE "
   ]
  },
  {
   "cell_type": "code",
   "execution_count": 22,
   "id": "2f84ac42",
   "metadata": {},
   "outputs": [],
   "source": [
    "from PIL import Image\n",
    "import numpy as np\n",
    "import matplotlib.pyplot as plt\n",
    "import tensorflow as tf"
   ]
  },
  {
   "cell_type": "code",
   "execution_count": 20,
   "id": "8f77cbb6",
   "metadata": {},
   "outputs": [],
   "source": [
    "full_array = []\n",
    "for x in range(8):\n",
    "    image = Image.open(f\"../test_images/rightmove_images_100148726_property_image_{x}.jpeg\")\n",
    "    image = image.resize((224, 224))\n",
    "    image_arr = np.array(image)\n",
    "    full_array.append(image_arr)"
   ]
  },
  {
   "cell_type": "code",
   "execution_count": 21,
   "id": "8d5d9c05",
   "metadata": {},
   "outputs": [],
   "source": [
    "np_array = np.array(full_array)"
   ]
  },
  {
   "cell_type": "code",
   "execution_count": 22,
   "id": "f6f9b7ee",
   "metadata": {},
   "outputs": [
    {
     "data": {
      "text/plain": [
       "(8, 224, 224, 3)"
      ]
     },
     "execution_count": 22,
     "metadata": {},
     "output_type": "execute_result"
    }
   ],
   "source": [
    "np_array.shape"
   ]
  },
  {
   "cell_type": "code",
   "execution_count": 3,
   "id": "4ae51de3",
   "metadata": {},
   "outputs": [],
   "source": [
    "image = Image.open(\"../test_images/rightmove_images_100148726_property_image_0.jpeg\")"
   ]
  },
  {
   "cell_type": "code",
   "execution_count": 4,
   "id": "6b8af0f0",
   "metadata": {},
   "outputs": [],
   "source": [
    "image = image.resize((256, 256))"
   ]
  },
  {
   "cell_type": "code",
   "execution_count": 7,
   "id": "c83060e7",
   "metadata": {},
   "outputs": [],
   "source": [
    "image_arr = np.array(image)"
   ]
  },
  {
   "cell_type": "code",
   "execution_count": 23,
   "id": "d6df0b6d",
   "metadata": {},
   "outputs": [],
   "source": [
    "new_model = tf.keras.models.load_model('../current_models/xcep_unfrozen_lrsPrfm.h5')"
   ]
  },
  {
   "cell_type": "code",
   "execution_count": 24,
   "id": "84d75964",
   "metadata": {},
   "outputs": [
    {
     "name": "stdout",
     "output_type": "stream",
     "text": [
      "1/1 [==============================] - 0s 104ms/step\n"
     ]
    }
   ],
   "source": [
    "y_pred = new_model.predict(np_array)"
   ]
  },
  {
   "cell_type": "markdown",
   "id": "53d1f624",
   "metadata": {},
   "source": [
    "### KMEANS"
   ]
  },
  {
   "cell_type": "code",
   "execution_count": 75,
   "id": "97b8432c",
   "metadata": {},
   "outputs": [],
   "source": [
    "from keras.applications.vgg16 import VGG16 \n",
    "from keras.models import Model\n",
    "from keras.applications.vgg16 import preprocess_input \n",
    "from tensorflow.keras.preprocessing import image as image_preprocess"
   ]
  },
  {
   "cell_type": "code",
   "execution_count": 76,
   "id": "3410e01b",
   "metadata": {},
   "outputs": [
    {
     "name": "stderr",
     "output_type": "stream",
     "text": [
      "2022-06-14 22:47:47.045102: I tensorflow/core/common_runtime/pluggable_device/pluggable_device_factory.cc:305] Could not identify NUMA node of platform GPU ID 0, defaulting to 0. Your kernel may not have been built with NUMA support.\n",
      "2022-06-14 22:47:47.045517: I tensorflow/core/common_runtime/pluggable_device/pluggable_device_factory.cc:271] Created TensorFlow device (/job:localhost/replica:0/task:0/device:GPU:0 with 0 MB memory) -> physical PluggableDevice (device: 0, name: METAL, pci bus id: <undefined>)\n"
     ]
    },
    {
     "name": "stdout",
     "output_type": "stream",
     "text": [
      "Metal device set to: Apple M1\n"
     ]
    }
   ],
   "source": [
    "model = VGG16()\n",
    "# remove the output layer\n",
    "model = Model(inputs=model.inputs, outputs=model.layers[-2].output)"
   ]
  },
  {
   "cell_type": "code",
   "execution_count": 1,
   "id": "135a6148",
   "metadata": {},
   "outputs": [],
   "source": [
    "model_file = \"../kmeans.joblib\""
   ]
  },
  {
   "cell_type": "code",
   "execution_count": 4,
   "id": "50f268e2",
   "metadata": {},
   "outputs": [],
   "source": [
    "import pickle\n",
    "loaded_model = pickle.load(open(model_file, 'rb'))"
   ]
  },
  {
   "cell_type": "code",
   "execution_count": 5,
   "id": "ebe76436",
   "metadata": {},
   "outputs": [],
   "source": [
    "def extract_features(file, model):\n",
    "    # load the image as a 224x224 array\n",
    "    img = image_preprocess.load_img(file, target_size=(224,224))\n",
    "    # convert from 'PIL.Image.Image' to numpy array\n",
    "    img = np.array(img) \n",
    "    # reshape the data for the model reshape(num_of_samples, dim 1, dim 2, channels)\n",
    "    reshaped_img = img.reshape(1,224,224,3) \n",
    "    # prepare image for model\n",
    "    imgx = preprocess_input(reshaped_img)\n",
    "    # get the feature vector\n",
    "    features = model.predict(imgx, use_multiprocessing=True)\n",
    "    return features"
   ]
  },
  {
   "cell_type": "code",
   "execution_count": 10,
   "id": "4c41fb46",
   "metadata": {},
   "outputs": [],
   "source": [
    "import numpy as np"
   ]
  },
  {
   "cell_type": "code",
   "execution_count": 11,
   "id": "94c5e565",
   "metadata": {},
   "outputs": [],
   "source": [
    "data = {}"
   ]
  },
  {
   "cell_type": "code",
   "execution_count": 12,
   "id": "924df4f5",
   "metadata": {},
   "outputs": [
    {
     "name": "stderr",
     "output_type": "stream",
     "text": [
      "2022-06-13 17:18:48.659207: W tensorflow/core/platform/profile_utils/cpu_utils.cc:128] Failed to get CPU frequency: 0 Hz\n",
      "2022-06-13 17:18:48.777893: I tensorflow/core/grappler/optimizers/custom_graph_optimizer_registry.cc:113] Plugin optimizer for device_type GPU is enabled.\n"
     ]
    },
    {
     "name": "stdout",
     "output_type": "stream",
     "text": [
      "1/1 [==============================] - 1s 847ms/step\n",
      "1/1 [==============================] - 0s 10ms/step\n",
      "1/1 [==============================] - 0s 8ms/step\n",
      "1/1 [==============================] - 0s 8ms/step\n",
      "1/1 [==============================] - 0s 8ms/step\n",
      "1/1 [==============================] - 0s 8ms/step\n",
      "1/1 [==============================] - 0s 12ms/step\n",
      "1/1 [==============================] - 0s 8ms/step\n"
     ]
    }
   ],
   "source": [
    "for x in range(8):\n",
    "    image_path = f\"../test_images/rightmove_images_100148726_property_image_{x}.jpeg\"\n",
    "    feat = extract_features(image_path, model)\n",
    "    data[image_path] = feat"
   ]
  },
  {
   "cell_type": "code",
   "execution_count": 15,
   "id": "12fd8af2",
   "metadata": {},
   "outputs": [],
   "source": [
    "filenames = np.array(list(data.keys()))\n",
    "\n",
    "# get a list of just the features\n",
    "feat = np.array(list(data.values()))\n",
    "feat = feat.reshape(-1,4096)"
   ]
  },
  {
   "cell_type": "code",
   "execution_count": 44,
   "id": "30daa49a",
   "metadata": {},
   "outputs": [],
   "source": [
    "image_classes = ['bathroom', 'bedroom', 'kitchen', 'livingroom']\n"
   ]
  },
  {
   "cell_type": "code",
   "execution_count": 24,
   "id": "20f79748",
   "metadata": {},
   "outputs": [],
   "source": [
    "preds = loaded_model.predict(feat)"
   ]
  },
  {
   "cell_type": "code",
   "execution_count": 40,
   "id": "5b10b22e",
   "metadata": {},
   "outputs": [],
   "source": [
    "files = []\n",
    "for i, file in enumerate(filenames):\n",
    "    if preds[i] == 0:\n",
    "        files.append(file)"
   ]
  },
  {
   "cell_type": "code",
   "execution_count": 45,
   "id": "9ab7ca96",
   "metadata": {},
   "outputs": [
    {
     "name": "stdout",
     "output_type": "stream",
     "text": [
      "1/1 [==============================] - 0s 16ms/step\n",
      "3\n",
      "1/1 [==============================] - 0s 16ms/step\n",
      "3\n",
      "1/1 [==============================] - 0s 15ms/step\n",
      "3\n",
      "1/1 [==============================] - 0s 15ms/step\n",
      "1\n",
      "1/1 [==============================] - 0s 15ms/step\n",
      "1\n",
      "1/1 [==============================] - 0s 16ms/step\n",
      "3\n"
     ]
    }
   ],
   "source": [
    "for file in files:\n",
    "    img = image_preprocess.load_img(file, target_size=(224,224))\n",
    "    # convert from 'PIL.Image.Image' to numpy array\n",
    "    img = np.array(img) \n",
    "    # reshape the data for the model reshape(num_of_samples, dim 1, dim 2, channels)\n",
    "    reshaped_img = img.reshape(1,224,224,3) \n",
    "    \n",
    "    pred = new_model.predict(reshaped_img)\n",
    "    print(np.argmax(pred))"
   ]
  },
  {
   "cell_type": "code",
   "execution_count": 53,
   "id": "0def52ed",
   "metadata": {},
   "outputs": [
    {
     "name": "stdout",
     "output_type": "stream",
     "text": [
      "3\n",
      "3\n",
      "3\n",
      "1\n",
      "1\n",
      "3\n",
      "3\n",
      "3\n"
     ]
    },
    {
     "data": {
      "image/png": "[encoded data removed]",
      "text/plain": [
       "<Figure size 432x288 with 1 Axes>"
      ]
     },
     "metadata": {
      "needs_background": "light"
     },
     "output_type": "display_data"
    }
   ],
   "source": [
    "for image, arr in zip(np_array, y_pred_list):\n",
    "    plt.imshow(image)\n",
    "    print(np.argmax(arr))"
   ]
  },
  {
   "cell_type": "code",
   "execution_count": null,
   "id": "07732c36",
   "metadata": {},
   "outputs": [],
   "source": []
  }
 ],
 "metadata": {
  "kernelspec": {
   "display_name": "Python 3 (ipykernel)",
   "language": "python",
   "name": "python3"
  },
  "language_info": {
   "codemirror_mode": {
    "name": "ipython",
    "version": 3
   },
   "file_extension": ".py",
   "mimetype": "text/x-python",
   "name": "python",
   "nbconvert_exporter": "python",
   "pygments_lexer": "ipython3",
   "version": "3.9.10"
  }
 },
 "nbformat": 4,
 "nbformat_minor": 5
}
