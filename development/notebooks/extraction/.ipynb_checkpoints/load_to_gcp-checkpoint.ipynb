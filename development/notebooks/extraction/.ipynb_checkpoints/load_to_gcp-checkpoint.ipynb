{
 "cells": [
  {
   "cell_type": "code",
   "execution_count": 1,
   "id": "fe38e547-4ec6-4dee-b6b5-6fde50449c4f",
   "metadata": {},
   "outputs": [
    {
     "name": "stderr",
     "output_type": "stream",
     "text": [
      "/Users/alexandergirardet/miniforge3/lib/python3.9/site-packages/requests/__init__.py:102: RequestsDependencyWarning: urllib3 (1.26.9) or chardet (5.0.0)/charset_normalizer (2.0.12) doesn't match a supported version!\n",
      "  warnings.warn(\"urllib3 ({}) or chardet ({})/charset_normalizer ({}) doesn't match a supported \"\n"
     ]
    }
   ],
   "source": [
    "from google.cloud import storage"
   ]
  },
  {
   "cell_type": "code",
   "execution_count": 10,
   "id": "1657368a-fe34-4071-8246-fb8edd2ad529",
   "metadata": {},
   "outputs": [],
   "source": [
    "from google.oauth2.service_account import Credentials"
   ]
  },
  {
   "cell_type": "code",
   "execution_count": 29,
   "id": "ee65c95f-e640-47a9-b83b-45cb0ea85582",
   "metadata": {},
   "outputs": [],
   "source": [
    "storage_client = storage.Client.from_service_account_json('../../real_estate_extraction/real-estate-dev-key.json')"
   ]
  },
  {
   "cell_type": "code",
   "execution_count": 31,
   "id": "292969c2-a572-4a09-8502-a7b218ac1c2f",
   "metadata": {},
   "outputs": [
    {
     "data": {
      "text/plain": [
       "('https://www.googleapis.com/auth/devstorage.full_control',\n",
       " 'https://www.googleapis.com/auth/devstorage.read_only',\n",
       " 'https://www.googleapis.com/auth/devstorage.read_write')"
      ]
     },
     "execution_count": 31,
     "metadata": {},
     "output_type": "execute_result"
    }
   ],
   "source": [
    "storage_client.SCOPE"
   ]
  },
  {
   "cell_type": "code",
   "execution_count": 17,
   "id": "4670a266-8bb7-41e8-b364-91a9eb18af2f",
   "metadata": {},
   "outputs": [],
   "source": [
    "access_token = creds.token"
   ]
  },
  {
   "cell_type": "code",
   "execution_count": 37,
   "id": "64286ffb-c037-4551-b5bb-a764e24d2c1f",
   "metadata": {},
   "outputs": [],
   "source": [
    "creds = Credentials.from_service_account_file(\n",
    "    \"../../real_estate_extraction/real-estate-dev-key.json\",\n",
    ")\n"
   ]
  },
  {
   "cell_type": "code",
   "execution_count": 38,
   "id": "9a9047bb-8922-4551-bfdd-1c3f7068afbf",
   "metadata": {},
   "outputs": [
    {
     "data": {
      "text/plain": [
       "'scrapy-data-extraction@real-estate-dev-376914.iam.gserviceaccount.com'"
      ]
     },
     "execution_count": 38,
     "metadata": {},
     "output_type": "execute_result"
    }
   ],
   "source": [
    "creds.service_account_email"
   ]
  },
  {
   "cell_type": "code",
   "execution_count": 45,
   "id": "3d41dc09-196a-4b89-a389-52214facf0ca",
   "metadata": {},
   "outputs": [],
   "source": [
    "import httplib2"
   ]
  },
  {
   "cell_type": "code",
   "execution_count": 27,
   "id": "07db1937-b6f5-4d1c-b20c-82a238a9eb13",
   "metadata": {},
   "outputs": [
    {
     "name": "stdout",
     "output_type": "stream",
     "text": [
      "None\n"
     ]
    }
   ],
   "source": [
    "print(creds.token)"
   ]
  },
  {
   "cell_type": "code",
   "execution_count": 70,
   "id": "a150d612-4604-4036-b710-82f3fea1bae3",
   "metadata": {},
   "outputs": [],
   "source": [
    "f = open('../../real_estate_extraction/access_token.txt','r')\n",
    "token = f.read()  \n",
    "new_text = token.replace('\\n', '')"
   ]
  },
  {
   "cell_type": "code",
   "execution_count": 72,
   "id": "60474e1d-b8b7-468a-a1e1-d72459859788",
   "metadata": {},
   "outputs": [
    {
     "data": {
      "text/plain": [
       "'ya29.c.b0Aaekm1Iq4zwQO8myAibqdJHC7EW-pgTPKjmePQVaCHnahhdy4HCmFEnzxw-BBbjrANH-V0k5NW25nNDtY6AZ9ipTV0TcuUVu9jHrHTaYHq6mEtesVOZm0OMKnAZc1yMOuF8AA8pKnD4aaWgOfSE1_VU8M_cJ4JBiZN0hOn7REzDH_S6qa8xZs7nP7yLS3h9xkcHhWe5M_2B_0rpiH_Dq8BJqEAmWBqewKGXL3Ac5YhUH244CpF2l9Om1stVbuZ12mFz5hROtmc-mjjr0YY_28niYpb7x9l4-6d62kx-snxZyJBxYy0whuihXqMM27Igy5QiYvMgQYmrW1i_lOF-4Vdixg6Fg0s5qI3X6Fz5MoRchUd21wuhUg1R9iIli_R7tWMQq3SUFIb6o1lmos2g05UbFliekXq4hW73lIXzk14x_QsJ-8lVz5WpBv_1eivkF1ggOJw-gWyIosUsrxOugz5imWYslXtu-kr81Om1I3tWlbqivlSkwkuxjb6x60W0zqu68MQ0YSiqyQ527MwuosnnO67Xbrk_zMR4a4jzShnF-wo95-9IXYU0Jh54YFepIw_j1Mt-lIlS0aBxVMi4grUJSXdzeSjiO2pg6usnd9lVpdaZpd-trOlv5f3j_bwsuFj44mmWikgOc592W7zlmRIeyW-Rwa_g6qjhqaykpmQo1kMYX-V4XdlWMUx04Mfy2_BnxJX7-4vf0y-1xWQal1rw4-OXeiis_Y0bgqOQJBcSp24dBkVY4Z3r_fF1Yj4XvUmane1FJYY4nmX0Z4j57Si0x0B5dlptqlczp0qROzl8U_tprmSJm-12SOytxM5IIz6266ouc3QnXiOBxYmh2231WnR_jlj-FnkFedJhMmiyQ0rZnc2IZk5MRxubIIbnXv3l_MgB2hzMvUlVIlXl8ctF52Ueqnm14xJ6zXsZIXQwlr-r4xQw9ekz73xSx-XvkRlm4i2I3oVVzs4BVFxBStrJm_g6BilSIhvMM7Qwb2B63jFF2nM6uqMO\\n'"
      ]
     },
     "execution_count": 72,
     "metadata": {},
     "output_type": "execute_result"
    }
   ],
   "source": [
    "token"
   ]
  },
  {
   "cell_type": "code",
   "execution_count": 3,
   "id": "253e4688-7035-4a91-8347-134c83036d31",
   "metadata": {},
   "outputs": [],
   "source": [
    "bucket_name = 'rightmove_storage_dev'\n",
    "BUCKET = storage_client.get_bucket(bucket_name)"
   ]
  },
  {
   "cell_type": "code",
   "execution_count": 4,
   "id": "f07ce1d7-b509-4b8e-b2dc-19c26d8d6ad8",
   "metadata": {},
   "outputs": [],
   "source": [
    "item = {'id': 130809395, 'bedrooms': 1, 'bathrooms': 2, 'numberOfImages': 20, 'numberOfFloorplans': 0, 'numberOfVirtualTours': 0, 'summary': 'Property Reference 1582654One single bedroom for rent in a twobedroom, twobathroom studentshared flatPurposebuilt\\xa0 2nd floor flat in an ideal location just a stones throw away from the University of Aberdeen, King Street Tesco, Aberdeen Sports Village and Old Aberdeen Medical Practice There is easy access to bus stops on King Street which give you direct travel to the Union Street, city centre and Garthdee including Robert Gordon UniversityLooking for a female student to move inThe flat is ideal for students\\xa0Includes\\xa0single bedroomprivate bathroom with showerbathtubkitchen 2 years old washing machinedryer, separate tumble dryer, dishwasher, fridgefreezer, oven, microwave, toasterliving room includes a sofabed and tvcommunal parking no designated spacesFlat is fully electric, boiler is 2 years oldEPC rating  CNo pets can be discussed with landlord, no smoking indoorsSummary  Exclusions Rent Amount £37000 per month £8538 per week Deposit  Bond £37000 2 Bedrooms 2 Bathrooms Property comes furnished Available to move in from 17 January, 2023 Maximum number of tenants is 1 Students ONLY No Pets, sorry No Smokers Not Suitable for Families  Children Bills not included Property has parking No Garden Access EPC Rating EPC Not Required Shared Accommodation  If calling, please quote reference 1582654  FeesYou will not be charged any admin fees  Contact today to book a viewing and have the landlord show you round  Request Details form responded to 247, with phone bookings available 9am9pm, 7 days a weekOpenRent is on the Scottish Letting Agent Register, registration number LARN1809026The landlord is on the Scottish Landlord Register, registration number 110156310004091', 'displayAddress': 'Orchard Street, Aberdeen, AB24', 'countryCode': 'GB', 'location': {'latitude': 57.161, 'longitude': -2.099242}, 'propertyImages': {'images': [{'srcUrl': 'https://media.rightmove.co.uk:443/dir/crop/10:9-16:9/97k/96668/130809395/96668_158265426122022_IMG_00_0000_max_476x317.jpeg', 'url': '97k/96668/130809395/96668_158265426122022_IMG_00_0000.jpeg', 'caption': None}, {'srcUrl': 'https://media.rightmove.co.uk:443/dir/crop/10:9-16:9/97k/96668/130809395/96668_158265426122022_IMG_01_0000_max_476x317.jpeg', 'url': '97k/96668/130809395/96668_158265426122022_IMG_01_0000.jpeg', 'caption': None}, {'srcUrl': 'https://media.rightmove.co.uk:443/dir/crop/10:9-16:9/97k/96668/130809395/96668_158265426122022_IMG_02_0000_max_476x317.jpeg', 'url': '97k/96668/130809395/96668_158265426122022_IMG_02_0000.jpeg', 'caption': None}, {'srcUrl': 'https://media.rightmove.co.uk:443/dir/crop/10:9-16:9/97k/96668/130809395/96668_158265426122022_IMG_03_0000_max_476x317.jpeg', 'url': '97k/96668/130809395/96668_158265426122022_IMG_03_0000.jpeg', 'caption': None}, {'srcUrl': 'https://media.rightmove.co.uk:443/dir/crop/10:9-16:9/97k/96668/130809395/96668_158265426122022_IMG_04_0000_max_476x317.jpeg', 'url': '97k/96668/130809395/96668_158265426122022_IMG_04_0000.jpeg', 'caption': None}, {'srcUrl': 'https://media.rightmove.co.uk:443/dir/crop/10:9-16:9/97k/96668/130809395/96668_158265426122022_IMG_05_0000_max_476x317.jpeg', 'url': '97k/96668/130809395/96668_158265426122022_IMG_05_0000.jpeg', 'caption': None}, {'srcUrl': 'https://media.rightmove.co.uk:443/dir/crop/10:9-16:9/97k/96668/130809395/96668_158265426122022_IMG_06_0000_max_476x317.jpeg', 'url': '97k/96668/130809395/96668_158265426122022_IMG_06_0000.jpeg', 'caption': None}, {'srcUrl': 'https://media.rightmove.co.uk:443/dir/crop/10:9-16:9/97k/96668/130809395/96668_158265426122022_IMG_07_0000_max_476x317.jpeg', 'url': '97k/96668/130809395/96668_158265426122022_IMG_07_0000.jpeg', 'caption': None}, {'srcUrl': 'https://media.rightmove.co.uk:443/dir/crop/10:9-16:9/97k/96668/130809395/96668_158265426122022_IMG_08_0000_max_476x317.jpeg', 'url': '97k/96668/130809395/96668_158265426122022_IMG_08_0000.jpeg', 'caption': None}, {'srcUrl': 'https://media.rightmove.co.uk:443/dir/crop/10:9-16:9/97k/96668/130809395/96668_158265426122022_IMG_09_0000_max_476x317.jpeg', 'url': '97k/96668/130809395/96668_158265426122022_IMG_09_0000.jpeg', 'caption': None}, {'srcUrl': 'https://media.rightmove.co.uk:443/dir/crop/10:9-16:9/97k/96668/130809395/96668_158265426122022_IMG_10_0000_max_476x317.jpeg', 'url': '97k/96668/130809395/96668_158265426122022_IMG_10_0000.jpeg', 'caption': None}, {'srcUrl': 'https://media.rightmove.co.uk:443/dir/crop/10:9-16:9/97k/96668/130809395/96668_158265426122022_IMG_11_0000_max_476x317.jpeg', 'url': '97k/96668/130809395/96668_158265426122022_IMG_11_0000.jpeg', 'caption': None}, {'srcUrl': 'https://media.rightmove.co.uk:443/dir/crop/10:9-16:9/97k/96668/130809395/96668_158265426122022_IMG_12_0000_max_476x317.jpeg', 'url': '97k/96668/130809395/96668_158265426122022_IMG_12_0000.jpeg', 'caption': None}, {'srcUrl': 'https://media.rightmove.co.uk:443/dir/crop/10:9-16:9/97k/96668/130809395/96668_158265426122022_IMG_13_0000_max_476x317.jpeg', 'url': '97k/96668/130809395/96668_158265426122022_IMG_13_0000.jpeg', 'caption': None}, {'srcUrl': 'https://media.rightmove.co.uk:443/dir/crop/10:9-16:9/97k/96668/130809395/96668_158265426122022_IMG_14_0000_max_476x317.jpeg', 'url': '97k/96668/130809395/96668_158265426122022_IMG_14_0000.jpeg', 'caption': None}, {'srcUrl': 'https://media.rightmove.co.uk:443/dir/crop/10:9-16:9/97k/96668/130809395/96668_158265426122022_IMG_15_0000_max_476x317.jpeg', 'url': '97k/96668/130809395/96668_158265426122022_IMG_15_0000.jpeg', 'caption': None}, {'srcUrl': 'https://media.rightmove.co.uk:443/dir/crop/10:9-16:9/97k/96668/130809395/96668_158265426122022_IMG_16_0000_max_476x317.jpeg', 'url': '97k/96668/130809395/96668_158265426122022_IMG_16_0000.jpeg', 'caption': None}, {'srcUrl': 'https://media.rightmove.co.uk:443/dir/crop/10:9-16:9/97k/96668/130809395/96668_158265426122022_IMG_17_0000_max_476x317.jpeg', 'url': '97k/96668/130809395/96668_158265426122022_IMG_17_0000.jpeg', 'caption': None}, {'srcUrl': 'https://media.rightmove.co.uk:443/dir/crop/10:9-16:9/97k/96668/130809395/96668_158265426122022_IMG_18_0000_max_476x317.jpeg', 'url': '97k/96668/130809395/96668_158265426122022_IMG_18_0000.jpeg', 'caption': None}, {'srcUrl': 'https://media.rightmove.co.uk:443/dir/crop/10:9-16:9/97k/96668/130809395/96668_158265426122022_IMG_19_0000_max_476x317.jpeg', 'url': '97k/96668/130809395/96668_158265426122022_IMG_19_0000.jpeg', 'caption': None}], 'mainImageSrc': 'https://media.rightmove.co.uk:443/dir/crop/10:9-16:9/97k/96668/130809395/96668_158265426122022_IMG_00_0000_max_476x317.jpeg', 'mainMapImageSrc': 'https://media.rightmove.co.uk:443/dir/crop/10:9-16:9/97k/96668/130809395/96668_158265426122022_IMG_00_0000_max_296x197.jpeg'}, 'propertySubType': 'Flat Share', 'listingUpdate': {'listingUpdateReason': 'new', 'listingUpdateDate': '2022-12-26T15:08:02Z'}, 'premiumListing': False, 'featuredProperty': False, 'price': {'amount': 370, 'frequency': 'monthly', 'currencyCode': 'GBP', 'displayPrices': [{'displayPrice': '£370 pcm', 'displayPriceQualifier': ''}, {'displayPrice': '£85 pw', 'displayPriceQualifier': ''}]}, 'customer': {'branchId': 96668, 'brandPlusLogoURI': '/company/clogo_rmchoice_37106_0000.png', 'contactTelephone': '020 3322 3265', 'branchDisplayName': 'OpenRent, London', 'branchName': 'London', 'brandTradingName': 'OpenRent', 'branchLandingPageUrl': '/estate-agents/agent/OpenRent/London-96668.html', 'development': False, 'showReducedProperties': True, 'commercial': False, 'showOnMap': True, 'enhancedListing': False, 'developmentContent': None, 'buildToRent': False, 'buildToRentBenefits': [], 'brandPlusLogoUrl': 'https://media.rightmove.co.uk:443/dir/company/clogo_rmchoice_37106_0000_max_100x50.png'}, 'distance': None, 'transactionType': 'rent', 'productLabel': {'productLabelText': '', 'spotlightLabel': False}, 'commercial': False, 'development': False, 'residential': True, 'students': True, 'auction': False, 'feesApply': False, 'feesApplyText': None, 'displaySize': '', 'showOnMap': True, 'propertyUrl': '/properties/130809395#/?channel=RES_LET', 'contactUrl': '/property-to-rent/contactBranch.html?propertyId=130809395', 'staticMapUrl': None, 'channel': 'RENT', 'firstVisibleDate': '2023-01-17T17:11:43Z', 'keywords': [], 'keywordMatchType': 'no_keyword', 'saved': False, 'hidden': False, 'onlineViewingsAvailable': False, 'lozengeModel': {'matchingLozenges': []}, 'hasBrandPlus': True, 'displayStatus': '', 'enquiredTimestamp': None, 'heading': '', 'formattedBranchName': ' by OpenRent, London', 'formattedDistance': '', 'isRecent': False, 'enhancedListing': False, 'addedOrReduced': 'Added on 26/12/2022', 'propertyTypeFullDescription': '1 bedroom flat share', 'feature_list': ['No Agent Fees', 'Room Only Shared Flat', 'Only Available to Students', 'Property Reference Number 1582654']}"
   ]
  },
  {
   "cell_type": "code",
   "execution_count": 6,
   "id": "913b7b0d-b192-4122-8929-10e59fcd7db1",
   "metadata": {},
   "outputs": [],
   "source": [
    "import json \n",
    "\n",
    "items = []\n",
    "\n",
    "for i in range(5):\n",
    "    items.append(item)\n",
    "    \n",
    "\n",
    "data = '\\n'.join(json.dumps(d) for d in items)"
   ]
  },
  {
   "cell_type": "code",
   "execution_count": 8,
   "id": "4ba4beab-d9e0-4802-b2b5-44cdb5ad7fec",
   "metadata": {},
   "outputs": [],
   "source": [
    "blob = BUCKET.blob(\"data/data.ndjson\")"
   ]
  },
  {
   "cell_type": "code",
   "execution_count": 9,
   "id": "3f3fbcd7-3d23-4ce1-846c-7f98efdb2ac3",
   "metadata": {},
   "outputs": [],
   "source": [
    "blob.upload_from_string(data)"
   ]
  },
  {
   "cell_type": "code",
   "execution_count": 60,
   "id": "1ad65fdb-e16e-4a6c-aaef-24d2d25ffec1",
   "metadata": {},
   "outputs": [],
   "source": [
    "destination_blob_name = \"data/data_http.ndjson\""
   ]
  },
  {
   "cell_type": "code",
   "execution_count": 63,
   "id": "d243a242-b573-4e44-a813-c0380cee59f2",
   "metadata": {},
   "outputs": [],
   "source": [
    "import requests"
   ]
  },
  {
   "cell_type": "code",
   "execution_count": 64,
   "id": "7b816890-e0d1-4c3a-9e93-b048d5740c45",
   "metadata": {},
   "outputs": [],
   "source": [
    "api_url = f\"https://www.googleapis.com/upload/storage/v1/b/{bucket_name}/o?uploadType=media&name={destination_blob_name}\"\n",
    "headers = {\n",
    "    \"Authorization\": f\"Bearer {new_text}\",\n",
    "    \"Content-Type\": \"application/json\"\n",
    "}\n",
    "response = requests.post(api_url, headers=headers, data=data)\n"
   ]
  },
  {
   "cell_type": "code",
   "execution_count": 76,
   "id": "5f63f0eb-5ec5-480a-8493-b9239e6e5f34",
   "metadata": {},
   "outputs": [
    {
     "data": {
      "text/plain": [
       "200"
      ]
     },
     "execution_count": 76,
     "metadata": {},
     "output_type": "execute_result"
    }
   ],
   "source": [
    "response.status_code"
   ]
  },
  {
   "cell_type": "code",
   "execution_count": null,
   "id": "d9b927e1-0199-44bf-be3c-e05a73c45b92",
   "metadata": {},
   "outputs": [],
   "source": []
  }
 ],
 "metadata": {
  "kernelspec": {
   "display_name": "Python 3 (ipykernel)",
   "language": "python",
   "name": "python3"
  },
  "language_info": {
   "codemirror_mode": {
    "name": "ipython",
    "version": 3
   },
   "file_extension": ".py",
   "mimetype": "text/x-python",
   "name": "python",
   "nbconvert_exporter": "python",
   "pygments_lexer": "ipython3",
   "version": "3.9.10"
  }
 },
 "nbformat": 4,
 "nbformat_minor": 5
}
