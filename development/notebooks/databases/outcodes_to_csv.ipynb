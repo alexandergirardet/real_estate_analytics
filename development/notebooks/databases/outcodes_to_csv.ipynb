{
 "cells": [
  {
   "cell_type": "code",
   "execution_count": 2,
   "id": "493bc005-1c18-4a05-9f4b-16c23929b68d",
   "metadata": {},
   "outputs": [],
   "source": [
    "import pandas as pd\n",
    "import psycopg2"
   ]
  },
  {
   "cell_type": "code",
   "execution_count": 5,
   "id": "398da3d3-1390-4151-b591-08fcd5e2707e",
   "metadata": {},
   "outputs": [],
   "source": [
    "import psycopg2\n",
    "\n",
    "conn = psycopg2.connect(\n",
    "    host=\"localhost\",\n",
    "    database=\"real_estate_test\",\n",
    "    # user=\"user\",\n",
    "    # password=\"password\"\n",
    ")\n",
    "\n",
    "query = \"SELECT * FROM rightmove_outcodes\"\n",
    "\n",
    "df = pd.read_sql_query(query, conn)"
   ]
  },
  {
   "cell_type": "code",
   "execution_count": 7,
   "id": "27d52198-d1ce-466b-823f-56dfb72ad5fb",
   "metadata": {},
   "outputs": [],
   "source": [
    "df.to_csv(\"rightmove_outcodes.csv\")"
   ]
  }
 ],
 "metadata": {
  "kernelspec": {
   "display_name": "Python 3 (ipykernel)",
   "language": "python",
   "name": "python3"
  },
  "language_info": {
   "codemirror_mode": {
    "name": "ipython",
    "version": 3
   },
   "file_extension": ".py",
   "mimetype": "text/x-python",
   "name": "python",
   "nbconvert_exporter": "python",
   "pygments_lexer": "ipython3",
   "version": "3.9.10"
  }
 },
 "nbformat": 4,
 "nbformat_minor": 5
}
